{
 "cells": [
  {
   "attachments": {},
   "cell_type": "markdown",
   "metadata": {},
   "source": [
    "1) Crear una variable que contenga un elemento del conjunto de números enteros y luego imprimir por pantalla si es mayor o menor a cero"
   ]
  },
  {
   "cell_type": "code",
   "execution_count": 2,
   "metadata": {},
   "outputs": [
    {
     "name": "stdout",
     "output_type": "stream",
     "text": [
      "el numero -10 es menor que cero\n"
     ]
    }
   ],
   "source": [
    "x1 = -10\n",
    "if x1>0:\n",
    "    print(\"el numero\",x1,\"es mayor que cero\")\n",
    "else:\n",
    "    print(\"el numero\",x1,\"es menor que cero\") "
   ]
  },
  {
   "attachments": {},
   "cell_type": "markdown",
   "metadata": {},
   "source": [
    "2) Crear dos variables y un condicional que informe si son del mismo tipo de dato"
   ]
  },
  {
   "cell_type": "code",
   "execution_count": 3,
   "metadata": {},
   "outputs": [
    {
     "name": "stdout",
     "output_type": "stream",
     "text": [
      "ambas variables son:  <class 'int'>\n"
     ]
    }
   ],
   "source": [
    "x2 = 23\n",
    "x3 = 54\n",
    "if (type(x2)==type(x3)):\n",
    "    print(\"ambas variables son: \",type(x2))\n",
    "else:\n",
    "    print(\"No son del mismo tipo\")"
   ]
  },
  {
   "attachments": {},
   "cell_type": "markdown",
   "metadata": {},
   "source": [
    "3) Para los valores enteros del 1 al 20, imprimir por pantalla si es par o impar"
   ]
  },
  {
   "cell_type": "code",
   "execution_count": 4,
   "metadata": {},
   "outputs": [
    {
     "name": "stdout",
     "output_type": "stream",
     "text": [
      "el numero:  1 es impar\n",
      "el numero:  2 es par\n",
      "el numero:  3 es impar\n",
      "el numero:  4 es par\n",
      "el numero:  5 es impar\n",
      "el numero:  6 es par\n",
      "el numero:  7 es impar\n",
      "el numero:  8 es par\n",
      "el numero:  9 es impar\n",
      "el numero:  10 es par\n",
      "el numero:  11 es impar\n",
      "el numero:  12 es par\n",
      "el numero:  13 es impar\n",
      "el numero:  14 es par\n",
      "el numero:  15 es impar\n",
      "el numero:  16 es par\n",
      "el numero:  17 es impar\n",
      "el numero:  18 es par\n",
      "el numero:  19 es impar\n",
      "el numero:  20 es par\n"
     ]
    }
   ],
   "source": [
    "for n in range (1,21):\n",
    "    if(n%2==0):\n",
    "        print(\"el numero: \",n,\"es par\")\n",
    "    else:\n",
    "        print(\"el numero: \",n,\"es impar\")"
   ]
  },
  {
   "attachments": {},
   "cell_type": "markdown",
   "metadata": {},
   "source": [
    "4) En un ciclo for mostrar para los valores entre 0 y 5 el resultado de elevarlo a la potencia igual a 3"
   ]
  },
  {
   "cell_type": "code",
   "execution_count": 5,
   "metadata": {},
   "outputs": [
    {
     "name": "stdout",
     "output_type": "stream",
     "text": [
      "el resultado de elevar:  0 a la 3 es:  0\n",
      "el resultado de elevar:  1 a la 3 es:  1\n",
      "el resultado de elevar:  2 a la 3 es:  8\n",
      "el resultado de elevar:  3 a la 3 es:  27\n",
      "el resultado de elevar:  4 a la 3 es:  64\n",
      "el resultado de elevar:  5 a la 3 es:  125\n"
     ]
    }
   ],
   "source": [
    "for n in range (0,6):\n",
    "    print(\"el resultado de elevar: \",n,\"a la 3 es: \",n**3)"
   ]
  },
  {
   "attachments": {},
   "cell_type": "markdown",
   "metadata": {},
   "source": [
    "5) Crear una variable que contenga un número entero y realizar un ciclo for la misma cantidad de ciclos"
   ]
  },
  {
   "cell_type": "code",
   "execution_count": 13,
   "metadata": {},
   "outputs": [
    {
     "name": "stdout",
     "output_type": "stream",
     "text": [
      "5\n",
      "Ciclo No:  1\n",
      "Ciclo No:  2\n",
      "Ciclo No:  3\n",
      "Ciclo No:  4\n",
      "Ciclo No:  5\n"
     ]
    }
   ],
   "source": [
    "num = input()\n",
    "print(num)\n",
    "for n in range (1,int(num)+1):\n",
    "    print(\"Ciclo No: \",n)"
   ]
  },
  {
   "attachments": {},
   "cell_type": "markdown",
   "metadata": {},
   "source": [
    "6) Utilizar un ciclo while para realizar el factorial de un número guardado en una variable, sólo si la variable contiene un número entero mayor a 0"
   ]
  },
  {
   "cell_type": "code",
   "execution_count": 22,
   "metadata": {},
   "outputs": [
    {
     "name": "stdout",
     "output_type": "stream",
     "text": [
      "el factorial de 5 es igual a: 120\n"
     ]
    }
   ],
   "source": [
    "num = int(input(\"Digite el numero para calcular el factorial:\"))\n",
    "if(num>0):\n",
    "    if (num==1):\n",
    "        print(\"el numero 1, no tiene factorial\")\n",
    "    else:\n",
    "        n=num\n",
    "        facto=num\n",
    "        while(n>=2):\n",
    "            n-=1\n",
    "            facto*=n\n",
    "        print(f\"el factorial de {num} es igual a: {facto}\")\n",
    "else:\n",
    "    print(\"los numeros negativos no tienen factorial\")\n",
    "\n"
   ]
  },
  {
   "attachments": {},
   "cell_type": "markdown",
   "metadata": {},
   "source": [
    "7) Crear un ciclo for dentro de un ciclo while"
   ]
  },
  {
   "cell_type": "code",
   "execution_count": 23,
   "metadata": {},
   "outputs": [
    {
     "name": "stdout",
     "output_type": "stream",
     "text": [
      "Ciclo while No:  5\n",
      "Ciclo for No:  1\n",
      "Ciclo for No:  2\n",
      "Ciclo for No:  3\n",
      "Ciclo for No:  4\n",
      "Ciclo while No:  4\n",
      "Ciclo for No:  1\n",
      "Ciclo for No:  2\n",
      "Ciclo for No:  3\n",
      "Ciclo while No:  3\n",
      "Ciclo for No:  1\n",
      "Ciclo for No:  2\n",
      "Ciclo while No:  2\n",
      "Ciclo for No:  1\n",
      "Ciclo while No:  1\n"
     ]
    }
   ],
   "source": [
    "n=5\n",
    "while(n>0):\n",
    "    print(\"Ciclo while No: \",n)\n",
    "    n-=1\n",
    "    for i in range (1,n+1):\n",
    "        print(\"Ciclo for No: \",i)\n"
   ]
  },
  {
   "attachments": {},
   "cell_type": "markdown",
   "metadata": {},
   "source": [
    "8) Crear un ciclo while dentro de un ciclo for"
   ]
  },
  {
   "cell_type": "code",
   "execution_count": 25,
   "metadata": {},
   "outputs": [
    {
     "name": "stdout",
     "output_type": "stream",
     "text": [
      "Ciclo for No:  1\n",
      "Ciclo while No:  1\n",
      "Ciclo for No:  2\n",
      "Ciclo while No:  2\n",
      "Ciclo while No:  1\n",
      "Ciclo for No:  3\n",
      "Ciclo while No:  3\n",
      "Ciclo while No:  2\n",
      "Ciclo while No:  1\n",
      "Ciclo for No:  4\n",
      "Ciclo while No:  4\n",
      "Ciclo while No:  3\n",
      "Ciclo while No:  2\n",
      "Ciclo while No:  1\n"
     ]
    }
   ],
   "source": [
    "n=5\n",
    "for i in range(1,n):\n",
    "    print(\"Ciclo for No: \",i)\n",
    "    n=i\n",
    "    while(n>0):\n",
    "        print(\"Ciclo while No: \",n)\n",
    "        n-=1"
   ]
  },
  {
   "attachments": {},
   "cell_type": "markdown",
   "metadata": {},
   "source": [
    "9) Imprimir los números primos existentes entre 0 y 30"
   ]
  },
  {
   "attachments": {},
   "cell_type": "markdown",
   "metadata": {},
   "source": [
    "10) ¿Se puede mejorar el proceso del punto 9? Utilizar las sentencias break y/ó continue para tal fin"
   ]
  },
  {
   "attachments": {},
   "cell_type": "markdown",
   "metadata": {},
   "source": [
    "11) En los puntos 9 y 10, se diseño un código que encuentra números primos y además se lo optimizó. ¿Es posible saber en qué medida se optimizó?"
   ]
  },
  {
   "attachments": {},
   "cell_type": "markdown",
   "metadata": {},
   "source": [
    "12) Si la cantidad de números que se evalúa es mayor a treinta, esa optimización crece?"
   ]
  },
  {
   "attachments": {},
   "cell_type": "markdown",
   "metadata": {},
   "source": [
    "13) Aplicando continue, armar un ciclo while que solo imprima los valores divisibles por 12, dentro del rango de números de 100 a 300"
   ]
  },
  {
   "attachments": {},
   "cell_type": "markdown",
   "metadata": {},
   "source": [
    "14) Utilizar la función **input()** que permite hacer ingresos por teclado, para encontrar números primos y dar la opción al usario de buscar el siguiente"
   ]
  },
  {
   "attachments": {},
   "cell_type": "markdown",
   "metadata": {},
   "source": [
    "15) Crear un ciclo while que encuentre dentro del rango de 100 a 300 el primer número divisible por 3 y además múltiplo de 6"
   ]
  }
 ],
 "metadata": {
  "kernelspec": {
   "display_name": "Python 3",
   "language": "python",
   "name": "python3"
  },
  "language_info": {
   "codemirror_mode": {
    "name": "ipython",
    "version": 3
   },
   "file_extension": ".py",
   "mimetype": "text/x-python",
   "name": "python",
   "nbconvert_exporter": "python",
   "pygments_lexer": "ipython3",
   "version": "3.11.1"
  },
  "orig_nbformat": 4,
  "vscode": {
   "interpreter": {
    "hash": "cfc9384de22f77db93c21d1e26b8c4219c840d4f5d1b970f09c2c14515afcebd"
   }
  }
 },
 "nbformat": 4,
 "nbformat_minor": 2
}
