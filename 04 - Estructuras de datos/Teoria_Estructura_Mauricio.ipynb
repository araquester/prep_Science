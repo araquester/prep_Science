{
 "cells": [
  {
   "cell_type": "code",
   "execution_count": 1,
   "metadata": {},
   "outputs": [
    {
     "name": "stdout",
     "output_type": "stream",
     "text": [
      "['Rojo', 'Azul', 'Amarillo', 'Naranja', 'Violeta', 'Verde']\n"
     ]
    }
   ],
   "source": [
    "mi_lista = ['Rojo','Azul','Amarillo','Naranja','Violeta','Verde']\n",
    "print(mi_lista)"
   ]
  },
  {
   "cell_type": "code",
   "execution_count": 2,
   "metadata": {},
   "outputs": [
    {
     "data": {
      "text/plain": [
       "list"
      ]
     },
     "execution_count": 2,
     "metadata": {},
     "output_type": "execute_result"
    }
   ],
   "source": [
    "type(mi_lista)"
   ]
  },
  {
   "cell_type": "code",
   "execution_count": 5,
   "metadata": {},
   "outputs": [
    {
     "name": "stdout",
     "output_type": "stream",
     "text": [
      "Rojo\n",
      "Azul\n",
      "Verde\n"
     ]
    }
   ],
   "source": [
    "print(mi_lista[0])\n",
    "print(mi_lista[1])\n",
    "print(mi_lista[5])"
   ]
  },
  {
   "cell_type": "code",
   "execution_count": 8,
   "metadata": {},
   "outputs": [
    {
     "name": "stdout",
     "output_type": "stream",
     "text": [
      "['Rojo', 'Azul']\n",
      "['Rojo', 'Azul']\n",
      "['Rojo', 'Azul', 'Amarillo', 'Naranja', 'Violeta', 'Verde']\n"
     ]
    }
   ],
   "source": [
    "print(mi_lista[0:2]) #forma general\n",
    "print(mi_lista[:2]) #si no pongo el primero lo toma desde el primero\n",
    "print(mi_lista[0:]) #al no poner el ultimo asume que van todos"
   ]
  },
  {
   "attachments": {},
   "cell_type": "markdown",
   "metadata": {},
   "source": [
    "Operaciones con las listas"
   ]
  },
  {
   "cell_type": "code",
   "execution_count": 11,
   "metadata": {},
   "outputs": [
    {
     "name": "stdout",
     "output_type": "stream",
     "text": [
      "['Rojo', 'Azul', 'Amarillo', 'Naranja', 'Violeta', 'Verde', 'Blanco', 'Blanco']\n",
      "['Rojo', 'Azul', 'Amarillo', 'Negro', 'Naranja', 'Violeta', 'Verde', 'Blanco', 'Blanco']\n"
     ]
    }
   ],
   "source": [
    "mi_lista.append(\"Blanco\") # Agrega al final de la lista\n",
    "print(mi_lista)\n",
    "mi_lista.insert(3,\"Negro\") # Inserta en el indice que le indique\n",
    "print(mi_lista[:])\n"
   ]
  },
  {
   "cell_type": "code",
   "execution_count": 12,
   "metadata": {},
   "outputs": [
    {
     "name": "stdout",
     "output_type": "stream",
     "text": [
      "['Rojo', 'Azul', 'Amarillo', 'Negro', 'Naranja', 'Violeta', 'Verde', 'Blanco', 'Blanco', 'Marron', 'Gris']\n"
     ]
    }
   ],
   "source": [
    "mi_lista.extend([\"Marron\",\"Gris\"]) # Agrega otra lista a mi lista original\n",
    "print(mi_lista[:])"
   ]
  },
  {
   "attachments": {},
   "cell_type": "markdown",
   "metadata": {},
   "source": [
    "Encontrar el indice de un valor en especifico"
   ]
  },
  {
   "cell_type": "code",
   "execution_count": 13,
   "metadata": {},
   "outputs": [
    {
     "data": {
      "text/plain": [
       "1"
      ]
     },
     "execution_count": 13,
     "metadata": {},
     "output_type": "execute_result"
    }
   ],
   "source": [
    "mi_lista.index(\"Azul\")"
   ]
  },
  {
   "attachments": {},
   "cell_type": "markdown",
   "metadata": {},
   "source": [
    "Remover un elemento de la lista"
   ]
  },
  {
   "cell_type": "code",
   "execution_count": 14,
   "metadata": {},
   "outputs": [
    {
     "name": "stdout",
     "output_type": "stream",
     "text": [
      "['Rojo', 'Azul', 'Amarillo', 'Negro', 'Naranja', 'Violeta', 'Verde', 'Blanco', 'Marron', 'Gris']\n"
     ]
    }
   ],
   "source": [
    "mi_lista.remove(\"Blanco\") # Remueve un elemento y si se encuentra repetido borra uno solo\n",
    "print(mi_lista[:])"
   ]
  },
  {
   "cell_type": "code",
   "execution_count": 15,
   "metadata": {},
   "outputs": [
    {
     "name": "stdout",
     "output_type": "stream",
     "text": [
      "Gris\n"
     ]
    }
   ],
   "source": [
    "ultimo = mi_lista.pop()\n",
    "print(ultimo)"
   ]
  },
  {
   "cell_type": "code",
   "execution_count": 16,
   "metadata": {},
   "outputs": [
    {
     "name": "stdout",
     "output_type": "stream",
     "text": [
      "['Rojo', 'Azul', 'Amarillo', 'Negro', 'Naranja', 'Violeta', 'Verde', 'Blanco', 'Marron']\n"
     ]
    }
   ],
   "source": [
    "print(mi_lista[:]) # pop extrae y elimina el ultimo elemento de la lista"
   ]
  },
  {
   "cell_type": "code",
   "execution_count": 17,
   "metadata": {},
   "outputs": [
    {
     "name": "stdout",
     "output_type": "stream",
     "text": [
      "['a', 'b', 'c', 'a', 'b', 'c', 'a', 'b', 'c']\n"
     ]
    }
   ],
   "source": [
    "print([\"a\",\"b\",\"c\"]*3) # Multiplica una lista por 3"
   ]
  },
  {
   "attachments": {},
   "cell_type": "markdown",
   "metadata": {},
   "source": [
    "Ordenar una lista (sort)"
   ]
  },
  {
   "cell_type": "code",
   "execution_count": 18,
   "metadata": {},
   "outputs": [
    {
     "name": "stdout",
     "output_type": "stream",
     "text": [
      "[1, 2, 3, 4, 6, 8]\n"
     ]
    }
   ],
   "source": [
    "lista=[1,4,3,6,8,2]\n",
    "lista.sort() # No necesita parametros\n",
    "print(lista) # De acuerdo con esto modifica la lista inicial y la organiza"
   ]
  },
  {
   "cell_type": "code",
   "execution_count": 20,
   "metadata": {},
   "outputs": [
    {
     "name": "stdout",
     "output_type": "stream",
     "text": [
      "[1, 4, 3, 6, 8, 2]\n",
      "[8, 6, 4, 3, 2, 1]\n"
     ]
    }
   ],
   "source": [
    "lista=[1,4,3,6,8,2]\n",
    "print(lista)\n",
    "lista.sort(reverse=True) # de mayor a menor\n",
    "print(lista)"
   ]
  },
  {
   "attachments": {},
   "cell_type": "markdown",
   "metadata": {},
   "source": [
    "TUPLAS"
   ]
  },
  {
   "cell_type": "code",
   "execution_count": 21,
   "metadata": {},
   "outputs": [
    {
     "name": "stdout",
     "output_type": "stream",
     "text": [
      "('Rojo', 'Azul', 'Amarillo', 'Negro', 'Naranja', 'Violeta', 'Verde', 'Blanco', 'Marron')\n"
     ]
    }
   ],
   "source": [
    "mi_tupla=tuple(mi_lista) # Primero el comando para convertir es tuple\n",
    "print(mi_tupla) # segundo las tuplas se ven con parentesis y las listas con corchetes"
   ]
  },
  {
   "cell_type": "code",
   "execution_count": 25,
   "metadata": {},
   "outputs": [
    {
     "name": "stdout",
     "output_type": "stream",
     "text": [
      "Amarillo\n",
      "True\n",
      "True\n"
     ]
    }
   ],
   "source": [
    "print(mi_tupla[2]) # los corchetes sirven para las listas y las tuplas\n",
    "print(\"Negro\" in mi_tupla)\n",
    "print(\"Azul\" in mi_lista) # compracion de si un elemento esta en la lista o tupla"
   ]
  },
  {
   "cell_type": "code",
   "execution_count": 26,
   "metadata": {},
   "outputs": [
    {
     "data": {
      "text/plain": [
       "1"
      ]
     },
     "execution_count": 26,
     "metadata": {},
     "output_type": "execute_result"
    }
   ],
   "source": [
    "mi_tupla.count(\"Rojo\") # Cuantas veces esta un elemento"
   ]
  },
  {
   "cell_type": "code",
   "execution_count": 29,
   "metadata": {},
   "outputs": [
    {
     "name": "stdout",
     "output_type": "stream",
     "text": [
      "('blanco',)\n"
     ]
    }
   ],
   "source": [
    "tupla_unitaria=(\"blanco\",)\n",
    "print(tupla_unitaria)"
   ]
  },
  {
   "cell_type": "code",
   "execution_count": 30,
   "metadata": {},
   "outputs": [
    {
     "name": "stdout",
     "output_type": "stream",
     "text": [
      "('Mauricio', 8, 6, 1976)\n"
     ]
    }
   ],
   "source": [
    "mi_tupla_2=\"Mauricio\",8,6,1976\n",
    "print(mi_tupla_2)"
   ]
  },
  {
   "attachments": {},
   "cell_type": "markdown",
   "metadata": {},
   "source": [
    "Desempaquetado de una tupla"
   ]
  },
  {
   "cell_type": "code",
   "execution_count": 31,
   "metadata": {},
   "outputs": [
    {
     "name": "stdout",
     "output_type": "stream",
     "text": [
      "el nombre es:  Mauricio y la fecha de nacimiento es: Dia=  8 Mes=  6 Año=  1976\n"
     ]
    }
   ],
   "source": [
    "Nombre,Dia,Mes,Año = mi_tupla_2\n",
    "print(\"el nombre es: \",Nombre,\"y la fecha de nacimiento es: Dia= \",Dia,\"Mes= \",Mes,\"Año= \",Año) "
   ]
  },
  {
   "attachments": {},
   "cell_type": "markdown",
   "metadata": {},
   "source": [
    "Convertir una tupla en una lista"
   ]
  },
  {
   "cell_type": "code",
   "execution_count": 32,
   "metadata": {},
   "outputs": [
    {
     "name": "stdout",
     "output_type": "stream",
     "text": [
      "['Mauricio', 8, 6, 1976]\n"
     ]
    }
   ],
   "source": [
    "mi_lista_2 = list(mi_tupla_2)\n",
    "print(mi_lista_2)"
   ]
  },
  {
   "attachments": {},
   "cell_type": "markdown",
   "metadata": {},
   "source": [
    "**DICCIONARIO**"
   ]
  },
  {
   "cell_type": "code",
   "execution_count": 33,
   "metadata": {},
   "outputs": [
    {
     "name": "stdout",
     "output_type": "stream",
     "text": [
      "['Naranja', 'Violeta', 'Verde']\n"
     ]
    }
   ],
   "source": [
    "mi_diccionario = {\"Colores Primarios\":[\"Rojo\",\"Azul\",\"Amarillo\"],\n",
    "                  \"Colores Secundarios\":[\"Naranja\",\"Violeta\",\"Verde\"],\n",
    "                  \"Clave3\": 10,\n",
    "                  \"Clave4\": False }\n",
    "print(mi_diccionario[\"Colores Secundarios\"])"
   ]
  },
  {
   "cell_type": "code",
   "execution_count": 34,
   "metadata": {},
   "outputs": [
    {
     "name": "stdout",
     "output_type": "stream",
     "text": [
      "Otro Ejemplo\n"
     ]
    }
   ],
   "source": [
    "mi_diccionario[\"Clave5\"]=\"Otro Ejemplo\"\n",
    "print(mi_diccionario[\"Clave5\"])"
   ]
  },
  {
   "cell_type": "code",
   "execution_count": 35,
   "metadata": {},
   "outputs": [
    {
     "name": "stdout",
     "output_type": "stream",
     "text": [
      "2\n"
     ]
    }
   ],
   "source": [
    "mi_diccionario[\"Clave3\"]=2\n",
    "print(mi_diccionario[\"Clave3\"])"
   ]
  },
  {
   "attachments": {},
   "cell_type": "markdown",
   "metadata": {},
   "source": [
    "Se puede utilizar una tupla como clave en un diccionario"
   ]
  },
  {
   "cell_type": "code",
   "execution_count": 36,
   "metadata": {},
   "outputs": [
    {
     "name": "stdout",
     "output_type": "stream",
     "text": [
      "Roma\n"
     ]
    }
   ],
   "source": [
    "mi_tupla_3=(\"Argentina\",\"Italia\",\"Inglaterra\")\n",
    "mi_diccionario_2={\n",
    "    mi_tupla_3[0]:\"Buenos Aires\",\n",
    "    mi_tupla_3[1]:\"Roma\",\n",
    "    mi_tupla_3[2]:\"Londres\"\n",
    "}\n",
    "print(mi_diccionario_2[mi_tupla_3[1]])"
   ]
  },
  {
   "attachments": {},
   "cell_type": "markdown",
   "metadata": {},
   "source": [
    "Colocar una tupla dentro de un diccionario"
   ]
  },
  {
   "cell_type": "code",
   "execution_count": 37,
   "metadata": {},
   "outputs": [
    {
     "name": "stdout",
     "output_type": "stream",
     "text": [
      "(1, 2, 3, 4)\n"
     ]
    }
   ],
   "source": [
    "mi_diccionario_3={\"Clave1\":\"Valor1\",\"Clave2\":(1,2,3,4)}\n",
    "print(mi_diccionario_3[\"Clave2\"])"
   ]
  },
  {
   "attachments": {},
   "cell_type": "markdown",
   "metadata": {},
   "source": [
    "Colocar una lista dentro de un diccionario (ya no serían parentesis sino corchetes)"
   ]
  },
  {
   "cell_type": "code",
   "execution_count": 38,
   "metadata": {},
   "outputs": [
    {
     "name": "stdout",
     "output_type": "stream",
     "text": [
      "[5, 6, 7, 8]\n"
     ]
    }
   ],
   "source": [
    "mi_diccionario_3={\"Clave1\":\"Valor1\",\"Clave2\":[5,6,7,8]}\n",
    "print(mi_diccionario_3[\"Clave2\"])"
   ]
  },
  {
   "attachments": {},
   "cell_type": "markdown",
   "metadata": {},
   "source": [
    "Colocar un diccionario dentro de un diccionario"
   ]
  },
  {
   "cell_type": "code",
   "execution_count": 39,
   "metadata": {},
   "outputs": [
    {
     "name": "stdout",
     "output_type": "stream",
     "text": [
      "{'numeros': [1, 2, 3, 4, 5]}\n"
     ]
    }
   ],
   "source": [
    "mi_diccionario_3={\"Clave1\":\"Valor1\",\"Clave2\":{\"numeros\":[1,2,3,4,5]}}\n",
    "print(mi_diccionario_3[\"Clave2\"])"
   ]
  },
  {
   "attachments": {},
   "cell_type": "markdown",
   "metadata": {},
   "source": [
    "Imprimir claves y valores de una direccion"
   ]
  },
  {
   "cell_type": "code",
   "execution_count": 41,
   "metadata": {},
   "outputs": [
    {
     "name": "stdout",
     "output_type": "stream",
     "text": [
      "dict_keys(['Clave1', 'Clave2'])\n",
      "dict_values(['Valor1', {'numeros': [1, 2, 3, 4, 5]}])\n"
     ]
    }
   ],
   "source": [
    "print(mi_diccionario_3.keys())\n",
    "print(mi_diccionario_3.values())"
   ]
  },
  {
   "cell_type": "code",
   "execution_count": 42,
   "metadata": {},
   "outputs": [
    {
     "data": {
      "text/plain": [
       "2"
      ]
     },
     "execution_count": 42,
     "metadata": {},
     "output_type": "execute_result"
    }
   ],
   "source": [
    "len(mi_diccionario_3) # imprimir el tamaño de la estructura, de acuerdo a lo visto el numero de claves"
   ]
  }
 ],
 "metadata": {
  "kernelspec": {
   "display_name": "Python 3",
   "language": "python",
   "name": "python3"
  },
  "language_info": {
   "codemirror_mode": {
    "name": "ipython",
    "version": 3
   },
   "file_extension": ".py",
   "mimetype": "text/x-python",
   "name": "python",
   "nbconvert_exporter": "python",
   "pygments_lexer": "ipython3",
   "version": "3.11.1"
  },
  "orig_nbformat": 4,
  "vscode": {
   "interpreter": {
    "hash": "cfc9384de22f77db93c21d1e26b8c4219c840d4f5d1b970f09c2c14515afcebd"
   }
  }
 },
 "nbformat": 4,
 "nbformat_minor": 2
}
