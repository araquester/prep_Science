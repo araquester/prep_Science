{
 "cells": [
  {
   "attachments": {},
   "cell_type": "markdown",
   "metadata": {},
   "source": [
    "1) Crear una lista que contenga nombres de ciudades del mundo que contenga más de 5 elementos e imprimir por pantalla"
   ]
  },
  {
   "cell_type": "code",
   "execution_count": 6,
   "metadata": {},
   "outputs": [
    {
     "name": "stdout",
     "output_type": "stream",
     "text": [
      "['Bogota', 'Madrid', 'Quebec', 'Paris', 'Cairo', 'Dubai']\n"
     ]
    }
   ],
   "source": [
    "lista_Ciudades=[\"Bogota\",\"Madrid\",\"Quebec\",\"Paris\",\"Cairo\",\"Dubai\"]\n",
    "print(lista_Ciudades[:])"
   ]
  },
  {
   "attachments": {},
   "cell_type": "markdown",
   "metadata": {},
   "source": [
    "2) Imprimir por pantalla el segundo elemento de la lista"
   ]
  },
  {
   "cell_type": "code",
   "execution_count": 7,
   "metadata": {},
   "outputs": [
    {
     "name": "stdout",
     "output_type": "stream",
     "text": [
      "Madrid\n"
     ]
    }
   ],
   "source": [
    "print(lista_Ciudades[1])"
   ]
  },
  {
   "attachments": {},
   "cell_type": "markdown",
   "metadata": {},
   "source": [
    "3) Imprimir por pantalla del segundo al cuarto elemento"
   ]
  },
  {
   "cell_type": "code",
   "execution_count": 8,
   "metadata": {},
   "outputs": [
    {
     "name": "stdout",
     "output_type": "stream",
     "text": [
      "['Madrid', 'Quebec', 'Paris']\n"
     ]
    }
   ],
   "source": [
    "print(lista_Ciudades[1:4])"
   ]
  },
  {
   "attachments": {},
   "cell_type": "markdown",
   "metadata": {},
   "source": [
    "4) Visualizar el tipo de dato de la lista"
   ]
  },
  {
   "cell_type": "code",
   "execution_count": 9,
   "metadata": {},
   "outputs": [
    {
     "name": "stdout",
     "output_type": "stream",
     "text": [
      "<class 'list'>\n",
      "<class 'str'>\n"
     ]
    }
   ],
   "source": [
    "print(type(lista_Ciudades)) # Tipo de dato lista\n",
    "print(type(lista_Ciudades[2])) # Pero tipo del dato que esta dentro de la lista"
   ]
  },
  {
   "attachments": {},
   "cell_type": "markdown",
   "metadata": {},
   "source": [
    "5) Visualizar todos los elementos de la lista a partir del tercero de manera genérica, es decir, sin explicitar la posición del último elemento"
   ]
  },
  {
   "cell_type": "code",
   "execution_count": 10,
   "metadata": {},
   "outputs": [
    {
     "name": "stdout",
     "output_type": "stream",
     "text": [
      "['Quebec', 'Paris', 'Cairo', 'Dubai']\n"
     ]
    }
   ],
   "source": [
    "print(lista_Ciudades[2:])"
   ]
  },
  {
   "attachments": {},
   "cell_type": "markdown",
   "metadata": {},
   "source": [
    "6) Visualizar los primeros 4 elementos de la lista"
   ]
  },
  {
   "cell_type": "code",
   "execution_count": 11,
   "metadata": {},
   "outputs": [
    {
     "name": "stdout",
     "output_type": "stream",
     "text": [
      "['Bogota', 'Madrid', 'Quebec', 'Paris']\n"
     ]
    }
   ],
   "source": [
    "print(lista_Ciudades[:4])"
   ]
  },
  {
   "attachments": {},
   "cell_type": "markdown",
   "metadata": {},
   "source": [
    "7) Agregar una ciudad más a la lista que ya exista y otra que no ¿Arroja algún tipo de error?"
   ]
  },
  {
   "cell_type": "code",
   "execution_count": 12,
   "metadata": {},
   "outputs": [
    {
     "name": "stdout",
     "output_type": "stream",
     "text": [
      "['Bogota', 'Madrid', 'Quebec', 'Paris', 'Cairo', 'Dubai', 'Madrid']\n"
     ]
    }
   ],
   "source": [
    "lista_Ciudades.append(\"Madrid\")\n",
    "print(lista_Ciudades)"
   ]
  },
  {
   "cell_type": "code",
   "execution_count": 13,
   "metadata": {},
   "outputs": [
    {
     "name": "stdout",
     "output_type": "stream",
     "text": [
      "['Bogota', 'Madrid', 'Quebec', 'Paris', 'Cairo', 'Dubai', 'Madrid', 'Buenos Aires']\n"
     ]
    }
   ],
   "source": [
    "lista_Ciudades.append(\"Buenos Aires\")\n",
    "print(lista_Ciudades)"
   ]
  },
  {
   "attachments": {},
   "cell_type": "markdown",
   "metadata": {},
   "source": [
    "8) Agregar otra ciudad, pero en la cuarta posición"
   ]
  },
  {
   "cell_type": "code",
   "execution_count": 14,
   "metadata": {},
   "outputs": [
    {
     "name": "stdout",
     "output_type": "stream",
     "text": [
      "['Bogota', 'Madrid', 'Quebec', 'Cali', 'Paris', 'Cairo', 'Dubai', 'Madrid', 'Buenos Aires']\n"
     ]
    }
   ],
   "source": [
    "lista_Ciudades.insert(3,\"Cali\")\n",
    "print(lista_Ciudades)"
   ]
  },
  {
   "attachments": {},
   "cell_type": "markdown",
   "metadata": {},
   "source": [
    "9) Concatenar otra lista a la ya creada"
   ]
  },
  {
   "cell_type": "code",
   "execution_count": 15,
   "metadata": {},
   "outputs": [
    {
     "name": "stdout",
     "output_type": "stream",
     "text": [
      "['Bogota', 'Madrid', 'Quebec', 'Cali', 'Paris', 'Cairo', 'Dubai', 'Madrid', 'Buenos Aires', 'Pekin', 'Manila', 'Viena']\n"
     ]
    }
   ],
   "source": [
    "lista_Ciudades.extend([\"Pekin\",\"Manila\",\"Viena\"])\n",
    "print(lista_Ciudades)"
   ]
  },
  {
   "attachments": {},
   "cell_type": "markdown",
   "metadata": {},
   "source": [
    "10) Encontrar el índice de la ciudad que en el punto 7 agregamos duplicada. ¿Se nota alguna particularidad?"
   ]
  },
  {
   "cell_type": "code",
   "execution_count": 16,
   "metadata": {},
   "outputs": [
    {
     "data": {
      "text/plain": [
       "1"
      ]
     },
     "execution_count": 16,
     "metadata": {},
     "output_type": "execute_result"
    }
   ],
   "source": [
    "lista_Ciudades.index(\"Madrid\") # Saca el indice de la primer vez que esta la ciudad"
   ]
  },
  {
   "attachments": {},
   "cell_type": "markdown",
   "metadata": {},
   "source": [
    "11) ¿Qué pasa si se busca un elemento que no existe?"
   ]
  },
  {
   "cell_type": "code",
   "execution_count": 18,
   "metadata": {},
   "outputs": [],
   "source": [
    "#lista_Ciudades.index(\"Toronto\") # Saca un error diciendo que la ciudad no se encuentra"
   ]
  },
  {
   "attachments": {},
   "cell_type": "markdown",
   "metadata": {},
   "source": [
    "12) Eliminar un elemento de la lista"
   ]
  },
  {
   "cell_type": "code",
   "execution_count": 19,
   "metadata": {},
   "outputs": [
    {
     "name": "stdout",
     "output_type": "stream",
     "text": [
      "['Bogota', 'Quebec', 'Cali', 'Paris', 'Cairo', 'Dubai', 'Madrid', 'Buenos Aires', 'Pekin', 'Manila', 'Viena']\n"
     ]
    }
   ],
   "source": [
    "lista_Ciudades.remove(\"Madrid\")\n",
    "print(lista_Ciudades)"
   ]
  },
  {
   "attachments": {},
   "cell_type": "markdown",
   "metadata": {},
   "source": [
    "13) ¿Qué pasa si el elemento a eliminar no existe?"
   ]
  },
  {
   "cell_type": "code",
   "execution_count": 21,
   "metadata": {},
   "outputs": [],
   "source": [
    "# lista_Ciudades.remove(\"Toronto\") \n",
    "# Saca un error diciendo que la ciudad no se encuentra"
   ]
  },
  {
   "attachments": {},
   "cell_type": "markdown",
   "metadata": {},
   "source": [
    "14) Extraer el úlimo elemento de la lista, guardarlo en una variable e imprimirlo"
   ]
  },
  {
   "cell_type": "code",
   "execution_count": 22,
   "metadata": {},
   "outputs": [
    {
     "name": "stdout",
     "output_type": "stream",
     "text": [
      "Viena\n"
     ]
    }
   ],
   "source": [
    "ultima = lista_Ciudades.pop()\n",
    "print(ultima)"
   ]
  },
  {
   "attachments": {},
   "cell_type": "markdown",
   "metadata": {},
   "source": [
    "15) Mostrar la lista multiplicada por 4"
   ]
  },
  {
   "cell_type": "code",
   "execution_count": 23,
   "metadata": {},
   "outputs": [
    {
     "name": "stdout",
     "output_type": "stream",
     "text": [
      "['Bogota', 'Quebec', 'Cali', 'Paris', 'Cairo', 'Dubai', 'Madrid', 'Buenos Aires', 'Pekin', 'Manila', 'Bogota', 'Quebec', 'Cali', 'Paris', 'Cairo', 'Dubai', 'Madrid', 'Buenos Aires', 'Pekin', 'Manila', 'Bogota', 'Quebec', 'Cali', 'Paris', 'Cairo', 'Dubai', 'Madrid', 'Buenos Aires', 'Pekin', 'Manila', 'Bogota', 'Quebec', 'Cali', 'Paris', 'Cairo', 'Dubai', 'Madrid', 'Buenos Aires', 'Pekin', 'Manila']\n"
     ]
    }
   ],
   "source": [
    "print(lista_Ciudades*4)"
   ]
  },
  {
   "attachments": {},
   "cell_type": "markdown",
   "metadata": {},
   "source": [
    "16) Crear una tupla que contenga los números enteros del 1 al 20"
   ]
  },
  {
   "cell_type": "code",
   "execution_count": 26,
   "metadata": {},
   "outputs": [
    {
     "name": "stdout",
     "output_type": "stream",
     "text": [
      "[1, 2, 3, 4, 5, 6, 7, 8, 9, 10, 11, 12, 13, 14, 15, 16, 17, 18, 19, 20]\n",
      "(1, 2, 3, 4, 5, 6, 7, 8, 9, 10, 11, 12, 13, 14, 15, 16, 17, 18, 19, 20)\n"
     ]
    }
   ],
   "source": [
    "ListaNumeros = [1]\n",
    "for n in range (2,21):\n",
    "    ListaNumeros.append(n)\n",
    "print(ListaNumeros)\n",
    "TuplaNumeros = tuple(ListaNumeros)\n",
    "print(TuplaNumeros)"
   ]
  },
  {
   "attachments": {},
   "cell_type": "markdown",
   "metadata": {},
   "source": [
    "17) Imprimir desde el índice 10 al 15 de la tupla"
   ]
  },
  {
   "cell_type": "code",
   "execution_count": 28,
   "metadata": {},
   "outputs": [
    {
     "name": "stdout",
     "output_type": "stream",
     "text": [
      "(11, 12, 13, 14, 15)\n"
     ]
    }
   ],
   "source": [
    "print(TuplaNumeros[10:15])"
   ]
  },
  {
   "attachments": {},
   "cell_type": "markdown",
   "metadata": {},
   "source": [
    "18) Evaluar si los números 20 y 30 están dentro de la tupla"
   ]
  },
  {
   "cell_type": "code",
   "execution_count": 29,
   "metadata": {},
   "outputs": [
    {
     "name": "stdout",
     "output_type": "stream",
     "text": [
      "True\n",
      "False\n"
     ]
    }
   ],
   "source": [
    "print(20 in TuplaNumeros)\n",
    "print(30 in TuplaNumeros)"
   ]
  },
  {
   "attachments": {},
   "cell_type": "markdown",
   "metadata": {},
   "source": [
    "19) Con la lista creada en el punto 1, validar la existencia del elemento 'París' y si no existe, agregarlo. Utilizar una variable e informar lo sucedido."
   ]
  },
  {
   "cell_type": "code",
   "execution_count": 35,
   "metadata": {},
   "outputs": [
    {
     "name": "stdout",
     "output_type": "stream",
     "text": [
      "['Bogota', 'Quebec', 'Cali', 'Paris', 'Cairo', 'Dubai', 'Madrid', 'Buenos Aires', 'Pekin', 'Manila', 'Toronto']\n",
      "La ciudad  Paris ya se encuentra en la lista\n",
      "['Bogota', 'Quebec', 'Cali', 'Paris', 'Cairo', 'Dubai', 'Madrid', 'Buenos Aires', 'Pekin', 'Manila', 'Toronto']\n"
     ]
    }
   ],
   "source": [
    "nueva = \"Paris\"\n",
    "if(nueva in lista_Ciudades):\n",
    "    print(\"La ciudad \",nueva,\"ya se encuentra en la lista\")\n",
    "else:\n",
    "    lista_Ciudades.append(nueva)\n",
    "print(lista_Ciudades)"
   ]
  },
  {
   "attachments": {},
   "cell_type": "markdown",
   "metadata": {},
   "source": [
    "20) Mostrar la cantidad de veces que se encuentra un elemento específico dentro de la tupla y de la lista"
   ]
  },
  {
   "cell_type": "code",
   "execution_count": 39,
   "metadata": {},
   "outputs": [
    {
     "name": "stdout",
     "output_type": "stream",
     "text": [
      "3\n",
      "1\n"
     ]
    }
   ],
   "source": [
    "print(lista_Ciudades.count(\"Cali\"))\n",
    "print(TuplaNumeros.count(11))\n"
   ]
  },
  {
   "attachments": {},
   "cell_type": "markdown",
   "metadata": {},
   "source": [
    "21) Convertir la tupla en una lista"
   ]
  },
  {
   "cell_type": "code",
   "execution_count": 40,
   "metadata": {},
   "outputs": [
    {
     "name": "stdout",
     "output_type": "stream",
     "text": [
      "[1, 2, 3, 4, 5, 6, 7, 8, 9, 10, 11, 12, 13, 14, 15, 16, 17, 18, 19, 20]\n"
     ]
    }
   ],
   "source": [
    "ListaNumeros = list(TuplaNumeros)\n",
    "print(ListaNumeros)"
   ]
  },
  {
   "attachments": {},
   "cell_type": "markdown",
   "metadata": {},
   "source": [
    "22) Desempaquetar solo los primeros 3 elementos de la tupla en 3 variables"
   ]
  },
  {
   "cell_type": "code",
   "execution_count": 53,
   "metadata": {},
   "outputs": [
    {
     "name": "stdout",
     "output_type": "stream",
     "text": [
      "1\n",
      "2\n",
      "3\n"
     ]
    }
   ],
   "source": [
    "primero,segundo,tercero = TuplaNumeros[0:3]\n",
    "print(primero)\n",
    "print(segundo)\n",
    "print(tercero)"
   ]
  },
  {
   "attachments": {},
   "cell_type": "markdown",
   "metadata": {},
   "source": [
    "23) Crear un diccionario utilizando la lista crada en el punto 1, asignandole la clave \"ciudad\". Agregar tambien otras claves, como puede ser \"Pais\" y \"Continente\"."
   ]
  },
  {
   "cell_type": "code",
   "execution_count": 47,
   "metadata": {},
   "outputs": [
    {
     "name": "stdout",
     "output_type": "stream",
     "text": [
      "{'ContAmericano': ['Bogota', 'Cali', 'Quebec', 'Buenos Aires', 'Toronto'], 'ContEuropeo': ['Paris', 'Madrid'], 'ContAsiatico': ['Pekin', 'Manila'], 'ContAfricano': ['Cairo', 'Dubai']}\n"
     ]
    }
   ],
   "source": [
    "DiccCiudades = {\"ContAmericano\":[\"Bogota\",\"Cali\",\"Quebec\",\"Buenos Aires\",\"Toronto\"],\n",
    "                \"ContEuropeo\":[\"Paris\",\"Madrid\",],\n",
    "                \"ContAsiatico\":[\"Pekin\",\"Manila\"],\n",
    "                \"ContAfricano\":[\"Cairo\",\"Dubai\"]}\n",
    "print(DiccCiudades)"
   ]
  },
  {
   "attachments": {},
   "cell_type": "markdown",
   "metadata": {},
   "source": [
    "24) Imprimir las claves del diccionario"
   ]
  },
  {
   "cell_type": "code",
   "execution_count": 48,
   "metadata": {},
   "outputs": [
    {
     "name": "stdout",
     "output_type": "stream",
     "text": [
      "dict_keys(['ContAmericano', 'ContEuropeo', 'ContAsiatico', 'ContAfricano'])\n"
     ]
    }
   ],
   "source": [
    "print(DiccCiudades.keys())"
   ]
  },
  {
   "attachments": {},
   "cell_type": "markdown",
   "metadata": {},
   "source": [
    "25) Imprimir las ciudades a través de su clave"
   ]
  },
  {
   "cell_type": "code",
   "execution_count": 52,
   "metadata": {},
   "outputs": [
    {
     "name": "stdout",
     "output_type": "stream",
     "text": [
      "Las ciudades del continente americano son:  ['Bogota', 'Cali', 'Quebec', 'Buenos Aires', 'Toronto']\n",
      "Las ciudades del continente europeo son:  ['Paris', 'Madrid']\n",
      "Las ciudades del continente asiatico son:  ['Pekin', 'Manila']\n",
      "Las ciudades del continente africano son:  ['Cairo', 'Dubai']\n"
     ]
    }
   ],
   "source": [
    "print(\"Las ciudades del continente americano son: \",DiccCiudades[\"ContAmericano\"])\n",
    "print(\"Las ciudades del continente europeo son: \",DiccCiudades[\"ContEuropeo\"])\n",
    "print(\"Las ciudades del continente asiatico son: \",DiccCiudades[\"ContAsiatico\"])\n",
    "print(\"Las ciudades del continente africano son: \",DiccCiudades[\"ContAfricano\"])"
   ]
  }
 ],
 "metadata": {
  "kernelspec": {
   "display_name": "Python 3",
   "language": "python",
   "name": "python3"
  },
  "language_info": {
   "codemirror_mode": {
    "name": "ipython",
    "version": 3
   },
   "file_extension": ".py",
   "mimetype": "text/x-python",
   "name": "python",
   "nbconvert_exporter": "python",
   "pygments_lexer": "ipython3",
   "version": "3.11.1"
  },
  "orig_nbformat": 4,
  "vscode": {
   "interpreter": {
    "hash": "cfc9384de22f77db93c21d1e26b8c4219c840d4f5d1b970f09c2c14515afcebd"
   }
  }
 },
 "nbformat": 4,
 "nbformat_minor": 2
}
